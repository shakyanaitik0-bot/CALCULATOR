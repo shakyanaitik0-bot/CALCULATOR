{
 "cells": [
  {
   "cell_type": "code",
   "execution_count": null,
   "id": "cb1708b7-224c-4b6b-838f-bd350fc1a835",
   "metadata": {},
   "outputs": [],
   "source": [
    "def calc_add(x, y):\n",
    "    return x + y\n",
    "\n",
    "def calc_subtract(x, y):\n",
    "    return x - y\n",
    "\n",
    "def calc_multiply(x, y):\n",
    "    return x * y\n",
    "\n",
    "def calc_divide(x, y):\n",
    "    if y == 0:\n",
    "        return \"❗ Cannot divide by zero.\"\n",
    "    return x / y\n",
    "\n",
    "def get_number(prompt):\n",
    "    while True:\n",
    "        try:\n",
    "            return float(input(prompt))\n",
    "        except ValueError:\n",
    "            print(\"⚠ Please enter a valid number.\")\n",
    "\n",
    "def calculator_app():\n",
    "    print(\"🔧 Welcome to QuickCalc\")\n",
    "\n",
    "    num_a = get_number(\"🔢 First value: \")\n",
    "    num_b = get_number(\"🔢 Second value: \")\n",
    "\n",
    "    print(\"\\nChoose an operation:\")\n",
    "    print(\" [1] ➕ Addition\")\n",
    "    print(\" [2] ➖ Subtraction\")\n",
    "    print(\" [3] ✖ Multiplication\")\n",
    "    print(\" [4] ➗ Division\")\n",
    "\n",
    "    op_choice = input(\"🔍 Enter option (1-4): \").strip()\n",
    "\n",
    "    if op_choice == \"1\":\n",
    "        result = calc_add(num_a, num_b)\n",
    "    elif op_choice == \"2\":\n",
    "        result = calc_subtract(num_a, num_b)\n",
    "    elif op_choice == \"3\":\n",
    "        result = calc_multiply(num_a, num_b)\n",
    "    elif op_choice == \"4\":\n",
    "        result = calc_divide(num_a, num_b)\n",
    "    else:\n",
    "        print(\"❌ Invalid selection.\")\n",
    "        return\n",
    "\n",
    "    print(f\"\\n✅ Result: {result}\")\n",
    "\n",
    "if __name__ == \"__main__\":\n",
    "    calculator_app()\n"
   ]
  }
 ],
 "metadata": {
  "kernelspec": {
   "display_name": "Python [conda env:base] *",
   "language": "python",
   "name": "conda-base-py"
  },
  "language_info": {
   "codemirror_mode": {
    "name": "ipython",
    "version": 3
   },
   "file_extension": ".py",
   "mimetype": "text/x-python",
   "name": "python",
   "nbconvert_exporter": "python",
   "pygments_lexer": "ipython3",
   "version": "3.12.7"
  }
 },
 "nbformat": 4,
 "nbformat_minor": 5
}
